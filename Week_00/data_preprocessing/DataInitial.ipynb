{
 "cells": [
  {
   "cell_type": "code",
   "execution_count": 1,
   "id": "71c056f0-aff0-4429-98b3-bf1f59e554b8",
   "metadata": {},
   "outputs": [],
   "source": [
    "import pandas as pd\n",
    "import numpy as np"
   ]
  },
  {
   "cell_type": "code",
   "execution_count": 2,
   "id": "a1b6fc92-5d70-44da-8436-e7b4617ae296",
   "metadata": {},
   "outputs": [],
   "source": [
    "data = pd.read_csv(\"../../data/data.csv\")"
   ]
  },
  {
   "cell_type": "code",
   "execution_count": 3,
   "id": "8ac6fa9d-e435-426b-8b79-03a6d70a98d2",
   "metadata": {},
   "outputs": [
    {
     "data": {
      "text/html": [
       "<div>\n",
       "<style scoped>\n",
       "    .dataframe tbody tr th:only-of-type {\n",
       "        vertical-align: middle;\n",
       "    }\n",
       "\n",
       "    .dataframe tbody tr th {\n",
       "        vertical-align: top;\n",
       "    }\n",
       "\n",
       "    .dataframe thead th {\n",
       "        text-align: right;\n",
       "    }\n",
       "</style>\n",
       "<table border=\"1\" class=\"dataframe\">\n",
       "  <thead>\n",
       "    <tr style=\"text-align: right;\">\n",
       "      <th></th>\n",
       "      <th>Duration</th>\n",
       "      <th>Pulse</th>\n",
       "      <th>Maxpulse</th>\n",
       "      <th>Calories</th>\n",
       "    </tr>\n",
       "  </thead>\n",
       "  <tbody>\n",
       "    <tr>\n",
       "      <th>0</th>\n",
       "      <td>60</td>\n",
       "      <td>110</td>\n",
       "      <td>130</td>\n",
       "      <td>409.1</td>\n",
       "    </tr>\n",
       "    <tr>\n",
       "      <th>1</th>\n",
       "      <td>60</td>\n",
       "      <td>117</td>\n",
       "      <td>145</td>\n",
       "      <td>479.0</td>\n",
       "    </tr>\n",
       "    <tr>\n",
       "      <th>2</th>\n",
       "      <td>60</td>\n",
       "      <td>103</td>\n",
       "      <td>135</td>\n",
       "      <td>340.0</td>\n",
       "    </tr>\n",
       "    <tr>\n",
       "      <th>3</th>\n",
       "      <td>45</td>\n",
       "      <td>109</td>\n",
       "      <td>175</td>\n",
       "      <td>282.4</td>\n",
       "    </tr>\n",
       "    <tr>\n",
       "      <th>4</th>\n",
       "      <td>45</td>\n",
       "      <td>117</td>\n",
       "      <td>148</td>\n",
       "      <td>406.0</td>\n",
       "    </tr>\n",
       "  </tbody>\n",
       "</table>\n",
       "</div>"
      ],
      "text/plain": [
       "   Duration  Pulse  Maxpulse  Calories\n",
       "0        60    110       130     409.1\n",
       "1        60    117       145     479.0\n",
       "2        60    103       135     340.0\n",
       "3        45    109       175     282.4\n",
       "4        45    117       148     406.0"
      ]
     },
     "execution_count": 3,
     "metadata": {},
     "output_type": "execute_result"
    }
   ],
   "source": [
    "data.head()"
   ]
  },
  {
   "cell_type": "code",
   "execution_count": 17,
   "id": "ca20f049-f8ec-467f-a4a1-ca162870cc95",
   "metadata": {},
   "outputs": [
    {
     "data": {
      "text/plain": [
       "array([ 409.1,  479. ,  340. ,  282.4,  406. ,  300. ,  374. ,  253.3,\n",
       "        195.1,  269. ,  329.3,  250.7,  345.3,  379.3,  275. ,  215.2,\n",
       "        300. ,    nan,  323. ,  243. ,  364.2,  282. ,  300. ,  246. ,\n",
       "        334.5,  250. ,  241. ,    nan,  280. ,  380.3,  243. ,  180.1,\n",
       "        299. ,  223. ,  361. ,  415. ,  300. ,  300. ,  300. ,  266. ,\n",
       "        180.1,  286. ,  329.4,  400. ,  397. ,  273. ,  387.6,  300. ,\n",
       "        298. ,  397.6,  380.2,  643.1,  263. ,  486. ,  238. ,  450.7,\n",
       "        413. ,  305. ,  226.4,  321. , 1376. , 1034.4,  853. ,  341. ,\n",
       "        131.4,  800.4,  873.4,  816. ,  110.4, 1500.2, 1115. ,  387.6,\n",
       "        700. ,  953.2,  304. ,  563.2,  251. ,  300. ,  500.4, 1729. ,\n",
       "        319.2,  344. ,  151.1,  500. ,  225.3,  300. ,  234. , 1000.1,\n",
       "        242. ,   50.3,  600.1,    nan,  105.3,   50.5,  127.4,  229.4,\n",
       "        128.2,  244.2,  188.2,  604.1,   77.7,  500. ,  500. ,  500.4,\n",
       "         92.7,  124. ,  800.3,   86.2,  500.3, 1860.4,  325.2,  275. ,\n",
       "        124.2,  225.3,  367.6,  351.7,  443. ,  277.4,    nan,  332.7,\n",
       "        193.9,  100.7,  336.7,  344.9,  368.5,  271. ,  275.3,  382. ,\n",
       "        466.4,  384. ,  342.5,  357.5,  335. ,  327.5,  339. ,  189. ,\n",
       "        317.7,  318. ,  308. ,  222.4,  390. ,    nan,  250.4,  335.4,\n",
       "        470.2,  270.8,  400. ,  361.9,  185. ,  409.4,  343. ,  353.2,\n",
       "        374. ,  275.8,  328. ,  368.5,  270.4,  270.4,  382.8,  240.9,\n",
       "        250.4,  260.4,  270. ,  280.9,  290.8,  300. ,  310.2,  320.4,\n",
       "        330.4])"
      ]
     },
     "execution_count": 17,
     "metadata": {},
     "output_type": "execute_result"
    }
   ],
   "source": [
    "X = data.iloc[:,:-1].values\n",
    "Y = data.iloc[:,-1].values"
   ]
  },
  {
   "cell_type": "code",
   "execution_count": null,
   "id": "51217cc9-431e-45bd-829e-a7c7aea8834d",
   "metadata": {},
   "outputs": [],
   "source": []
  }
 ],
 "metadata": {
  "kernelspec": {
   "display_name": "Python 3 (ipykernel)",
   "language": "python",
   "name": "python3"
  },
  "language_info": {
   "codemirror_mode": {
    "name": "ipython",
    "version": 3
   },
   "file_extension": ".py",
   "mimetype": "text/x-python",
   "name": "python",
   "nbconvert_exporter": "python",
   "pygments_lexer": "ipython3",
   "version": "3.12.6"
  }
 },
 "nbformat": 4,
 "nbformat_minor": 5
}
