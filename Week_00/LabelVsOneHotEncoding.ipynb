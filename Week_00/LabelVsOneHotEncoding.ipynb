{
 "cells": [
  {
   "cell_type": "code",
   "execution_count": 33,
   "id": "5fe247ec-0eaa-46c3-9375-908e324b7366",
   "metadata": {},
   "outputs": [],
   "source": [
    "import pandas as pd\n",
    "from sklearn.preprocessing import LabelEncoder, OneHotEncoder\n",
    "from sklearn.model_selection import cross_val_score\n",
    "from sklearn.linear_model import LogisticRegression\n",
    "from sklearn.compose import ColumnTransformer"
   ]
  },
  {
   "cell_type": "code",
   "execution_count": 34,
   "id": "6906cf8b-ff61-4c88-b990-9c4ea9c2228d",
   "metadata": {},
   "outputs": [],
   "source": [
    "data = pd.DataFrame({\n",
    "    'Color': ['Red', 'Green', 'Blue', 'Green', 'Red'],\n",
    "    'Target': [1, 0, 0, 1, 1]\n",
    "})"
   ]
  },
  {
   "cell_type": "code",
   "execution_count": 35,
   "id": "f18bcb54-3cf9-4c1f-9158-40e25235f09e",
   "metadata": {},
   "outputs": [],
   "source": [
    "X = data[['Color']]\n",
    "y = data['Target']"
   ]
  },
  {
   "cell_type": "code",
   "execution_count": 36,
   "id": "c8c1a6a4-a1f9-4ef5-ae6c-9a78d70739e3",
   "metadata": {},
   "outputs": [],
   "source": [
    "# Label Encoding\n",
    "label_encoder = LabelEncoder()\n",
    "X_label_encoder = label_encoder.fit_transform(X['Color']).reshape(-1,1)"
   ]
  },
  {
   "cell_type": "code",
   "execution_count": 37,
   "id": "82d83176-674d-4e2e-b500-8ebb587a6e9a",
   "metadata": {},
   "outputs": [
    {
     "data": {
      "text/plain": [
       "0.5833333333333333"
      ]
     },
     "execution_count": 37,
     "metadata": {},
     "output_type": "execute_result"
    }
   ],
   "source": [
    "model = LogisticRegression()\n",
    "score_label = cross_val_score(model,X_label_encoder,y,cv=2).mean()\n",
    "score_label"
   ]
  },
  {
   "cell_type": "code",
   "execution_count": 38,
   "id": "144beadd-e8e7-48e0-9c24-97cb27d1a636",
   "metadata": {},
   "outputs": [],
   "source": [
    "ct = ColumnTransformer([('encoder', OneHotEncoder(drop='first'), ['Color'])], remainder='passthrough')\n",
    "X_one_hot = ct.fit_transform(X)"
   ]
  },
  {
   "cell_type": "code",
   "execution_count": 39,
   "id": "ea536a40-b620-4a95-a764-ef46ddbd2351",
   "metadata": {},
   "outputs": [
    {
     "data": {
      "text/plain": [
       "0.5833333333333333"
      ]
     },
     "execution_count": 39,
     "metadata": {},
     "output_type": "execute_result"
    }
   ],
   "source": [
    "score_oneHot = cross_val_score(model,X_one_hot,y,cv=2).mean()\n",
    "score_oneHot"
   ]
  },
  {
   "cell_type": "code",
   "execution_count": 40,
   "id": "c74d88b6-67e6-43c7-b014-f76abbc9cfca",
   "metadata": {},
   "outputs": [
    {
     "name": "stdout",
     "output_type": "stream",
     "text": [
      "Label Encoding Score: 0.8333333333333334\n",
      "One-Hot Encoding Score: 0.6666666666666666\n"
     ]
    },
    {
     "name": "stderr",
     "output_type": "stream",
     "text": [
      "C:\\Users\\ASUS\\AppData\\Roaming\\Python\\Python312\\site-packages\\sklearn\\model_selection\\_split.py:776: UserWarning: The least populated class in y has only 2 members, which is less than n_splits=3.\n",
      "  warnings.warn(\n",
      "C:\\Users\\ASUS\\AppData\\Roaming\\Python\\Python312\\site-packages\\sklearn\\model_selection\\_split.py:776: UserWarning: The least populated class in y has only 2 members, which is less than n_splits=3.\n",
      "  warnings.warn(\n"
     ]
    }
   ],
   "source": [
    "import pandas as pd\n",
    "from sklearn.preprocessing import LabelEncoder, OneHotEncoder\n",
    "from sklearn.linear_model import LogisticRegression\n",
    "from sklearn.model_selection import cross_val_score\n",
    "from sklearn.compose import ColumnTransformer\n",
    "\n",
    "# Sample dataset\n",
    "data = pd.DataFrame({\n",
    "    'Color': ['Red', 'Green', 'Blue', 'Green', 'Red'],\n",
    "    'Target': [1, 0, 0, 1, 1]\n",
    "})\n",
    "\n",
    "X = data[['Color']]\n",
    "y = data['Target']\n",
    "\n",
    "### LABEL ENCODING\n",
    "label_encoder = LabelEncoder()\n",
    "X_label_encoded = label_encoder.fit_transform(X['Color']).reshape(-1, 1)\n",
    "\n",
    "model = LogisticRegression()\n",
    "score_label = cross_val_score(model, X_label_encoded, y, cv=3).mean()\n",
    "print(\"Label Encoding Score:\", score_label)\n",
    "\n",
    "### ONE-HOT ENCODING\n",
    "ct = ColumnTransformer([('encoder', OneHotEncoder(drop='first'), ['Color'])], remainder='passthrough')\n",
    "X_onehot = ct.fit_transform(X)\n",
    "\n",
    "score_onehot = cross_val_score(model, X_onehot, y, cv=3).mean()\n",
    "print(\"One-Hot Encoding Score:\", score_onehot)\n"
   ]
  },
  {
   "cell_type": "code",
   "execution_count": null,
   "id": "30eaec23-0a2e-4983-871c-08a892cbce6c",
   "metadata": {},
   "outputs": [],
   "source": []
  }
 ],
 "metadata": {
  "kernelspec": {
   "display_name": "Python 3 (ipykernel)",
   "language": "python",
   "name": "python3"
  },
  "language_info": {
   "codemirror_mode": {
    "name": "ipython",
    "version": 3
   },
   "file_extension": ".py",
   "mimetype": "text/x-python",
   "name": "python",
   "nbconvert_exporter": "python",
   "pygments_lexer": "ipython3",
   "version": "3.12.6"
  }
 },
 "nbformat": 4,
 "nbformat_minor": 5
}
