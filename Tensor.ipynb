{
 "cells": [
  {
   "cell_type": "markdown",
   "id": "30bceef7-9708-4816-b482-056cd7b893fc",
   "metadata": {},
   "source": [
    "## Tensor \n"
   ]
  },
  {
   "cell_type": "raw",
   "id": "10a98b84-12db-4d4d-8629-bcf2b4096aac",
   "metadata": {},
   "source": [
    "Tensor are the multidimensional arrays with a uniform type(dtype).  tf.dtype\n",
    "Tensor are like np.arrays but tensors are immutable like python number and strings:you can never update the content of tensor"
   ]
  },
  {
   "cell_type": "code",
   "execution_count": 1,
   "id": "683896a4-d24d-442b-985f-b87ab045d86c",
   "metadata": {},
   "outputs": [],
   "source": [
    "import tensorflow as tf\n",
    "import numpy as np"
   ]
  },
  {
   "cell_type": "code",
   "execution_count": 2,
   "id": "9dc9e99d-9ea0-4ec4-9e9d-eb88d8d18a0e",
   "metadata": {},
   "outputs": [
    {
     "name": "stdout",
     "output_type": "stream",
     "text": [
      "tf.Tensor(4, shape=(), dtype=int32)\n"
     ]
    }
   ],
   "source": [
    "#rank_0_tensor also called scalar contains single value  and no axes\n",
    "rank_0_tensor = tf.constant(4)\n",
    "print(rank_0_tensor)"
   ]
  },
  {
   "cell_type": "code",
   "execution_count": 3,
   "id": "ec2c7d1a-ddc0-42dc-8ae4-deb04b0e4ce1",
   "metadata": {},
   "outputs": [],
   "source": [
    "#rank_1_tesnor also called vector contains list of values. A vector has axes"
   ]
  },
  {
   "cell_type": "code",
   "execution_count": 5,
   "id": "29d4254c-4bab-45c6-ae71-8bd680bd3f9c",
   "metadata": {},
   "outputs": [
    {
     "data": {
      "text/plain": [
       "<tf.Tensor: shape=(4,), dtype=int32, numpy=array([1, 2, 3, 4])>"
      ]
     },
     "execution_count": 5,
     "metadata": {},
     "output_type": "execute_result"
    }
   ],
   "source": [
    "rank_1_tensor = tf.constant([1,2,3,4])\n",
    "rank_1_tensor"
   ]
  },
  {
   "cell_type": "code",
   "execution_count": 6,
   "id": "e3a65ab0-1f32-467c-9318-8352ac462ebd",
   "metadata": {},
   "outputs": [],
   "source": [
    "#rank_2_tensor also called matrix contains 2d array or two axes\n",
    "rank_2_tensor = tf.constant([[1,2],[3,4]],dtype=tf.float32)"
   ]
  },
  {
   "cell_type": "code",
   "execution_count": 7,
   "id": "a1a06b1d-989b-4258-8da1-9c3e69b044b6",
   "metadata": {},
   "outputs": [
    {
     "data": {
      "text/plain": [
       "<tf.Tensor: shape=(2, 2), dtype=float32, numpy=\n",
       "array([[1., 2.],\n",
       "       [3., 4.]], dtype=float32)>"
      ]
     },
     "execution_count": 7,
     "metadata": {},
     "output_type": "execute_result"
    }
   ],
   "source": [
    "rank_2_tensor\n"
   ]
  },
  {
   "cell_type": "code",
   "execution_count": 8,
   "id": "7cb39921-ca6e-4bbb-b170-9824b2cefb99",
   "metadata": {},
   "outputs": [],
   "source": [
    "#rank_3_tensor - more than 2 axes\n",
    "rank_3_tensor = tf.constant([[[1,2,3,4,5],[5,2,3,1,4]],[[21,4,1,2,4],[2,3,3,3,3]]])"
   ]
  },
  {
   "cell_type": "code",
   "execution_count": 9,
   "id": "463c9cca-b02d-4726-af07-e74100723ee0",
   "metadata": {},
   "outputs": [
    {
     "data": {
      "text/plain": [
       "<tf.Tensor: shape=(2, 2, 5), dtype=int32, numpy=\n",
       "array([[[ 1,  2,  3,  4,  5],\n",
       "        [ 5,  2,  3,  1,  4]],\n",
       "\n",
       "       [[21,  4,  1,  2,  4],\n",
       "        [ 2,  3,  3,  3,  3]]])>"
      ]
     },
     "execution_count": 9,
     "metadata": {},
     "output_type": "execute_result"
    }
   ],
   "source": [
    "rank_3_tensor"
   ]
  },
  {
   "cell_type": "code",
   "execution_count": 10,
   "id": "4baf2fb3-3ccc-4d46-93af-d62122a25ea7",
   "metadata": {},
   "outputs": [
    {
     "data": {
      "text/plain": [
       "array([[1., 2.],\n",
       "       [3., 4.]], dtype=float32)"
      ]
     },
     "execution_count": 10,
     "metadata": {},
     "output_type": "execute_result"
    }
   ],
   "source": [
    "#you can convert tensor into numpy array\n",
    "np.array(rank_2_tensor)"
   ]
  },
  {
   "cell_type": "code",
   "execution_count": 11,
   "id": "83921833-c03b-48ef-acf6-3973b47ed9da",
   "metadata": {},
   "outputs": [
    {
     "data": {
      "text/plain": [
       "array([[1., 2.],\n",
       "       [3., 4.]], dtype=float32)"
      ]
     },
     "execution_count": 11,
     "metadata": {},
     "output_type": "execute_result"
    }
   ],
   "source": [
    "rank_2_tensor.numpy()"
   ]
  },
  {
   "cell_type": "code",
   "execution_count": 12,
   "id": "2faf6373-f1bd-4349-8cb7-3109f6df4204",
   "metadata": {},
   "outputs": [],
   "source": [
    "# the base tensor require it to be rectangular but if we have irregular shapes we can use ragged tensor and sparse tensor"
   ]
  },
  {
   "cell_type": "raw",
   "id": "f80fff43-43fb-4e22-8cf9-78dbf5179cd4",
   "metadata": {},
   "source": [
    "A tensor with variable number of elements along some axis is called ragged tensors. Use tf.ragged.RaggedTensor for ragged data"
   ]
  },
  {
   "cell_type": "code",
   "execution_count": 13,
   "id": "020e7b48-601d-423f-a326-0dffebe38208",
   "metadata": {},
   "outputs": [
    {
     "name": "stdout",
     "output_type": "stream",
     "text": [
      "type(e).__name__:Can't convert non-rectangular Python sequence to Tensor.\n"
     ]
    }
   ],
   "source": [
    "ragged_list = [[\n",
    "\n",
    "    [1,2,3,4],\n",
    "    [0,1],\n",
    "    [5,6,7],\n",
    "    [9]\n",
    "]]\n",
    "\n",
    "try:\n",
    "    tensor = tf.constant(ragged_list) #throws an error\n",
    "except Exception as e:\n",
    "    print(f\"type(e).__name__:{e}\")\n",
    "    \n",
    "    "
   ]
  },
  {
   "cell_type": "code",
   "execution_count": 14,
   "id": "0f76e24f-0f6b-48b3-84f1-7a23523ac71f",
   "metadata": {},
   "outputs": [],
   "source": [
    "#Now use tf.ragged.RaggedTensor\n",
    "ragged_tensor = tf.ragged.constant(ragged_list)"
   ]
  },
  {
   "cell_type": "code",
   "execution_count": 15,
   "id": "81cb1338-5be7-48ac-a416-3adba43d8cdb",
   "metadata": {},
   "outputs": [
    {
     "data": {
      "text/plain": [
       "<tf.RaggedTensor [[[1, 2, 3, 4], [0, 1], [5, 6, 7], [9]]]>"
      ]
     },
     "execution_count": 15,
     "metadata": {},
     "output_type": "execute_result"
    }
   ],
   "source": [
    "ragged_tensor"
   ]
  },
  {
   "cell_type": "code",
   "execution_count": 17,
   "id": "90a2c11f-818f-45b8-b905-040d3dada2fd",
   "metadata": {},
   "outputs": [
    {
     "data": {
      "text/plain": [
       "TensorShape([1, None, None])"
      ]
     },
     "execution_count": 17,
     "metadata": {},
     "output_type": "execute_result"
    }
   ],
   "source": [
    "ragged_tensor.shape"
   ]
  },
  {
   "cell_type": "code",
   "execution_count": null,
   "id": "832724aa-b89d-4313-ba86-804b199bd5a9",
   "metadata": {},
   "outputs": [],
   "source": []
  }
 ],
 "metadata": {
  "kernelspec": {
   "display_name": "Python 3 (ipykernel)",
   "language": "python",
   "name": "python3"
  },
  "language_info": {
   "codemirror_mode": {
    "name": "ipython",
    "version": 3
   },
   "file_extension": ".py",
   "mimetype": "text/x-python",
   "name": "python",
   "nbconvert_exporter": "python",
   "pygments_lexer": "ipython3",
   "version": "3.12.6"
  }
 },
 "nbformat": 4,
 "nbformat_minor": 5
}
