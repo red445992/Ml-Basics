{
 "cells": [
  {
   "cell_type": "markdown",
   "id": "3cd9f800-162e-438b-9ef9-6552a6262875",
   "metadata": {},
   "source": [
    "# Numpy Tutorial"
   ]
  },
  {
   "cell_type": "code",
   "execution_count": 1,
   "id": "bfb9ce42-d49a-446d-8f85-248f71925f31",
   "metadata": {},
   "outputs": [
    {
     "name": "stdout",
     "output_type": "stream",
     "text": [
      "[1 2 3 4 5]\n",
      "<class 'numpy.ndarray'>\n"
     ]
    }
   ],
   "source": [
    "#create a numpy array:\n",
    "\n",
    "import numpy as np\n",
    "\n",
    "arr = np.array([1,2,3,4,5])\n",
    "print(arr)\n",
    "print(type(arr))"
   ]
  },
  {
   "cell_type": "code",
   "execution_count": 2,
   "id": "4cb66a03-7eab-40d0-9135-9640f617699e",
   "metadata": {},
   "outputs": [],
   "source": [
    "# numpy = numerical python\n",
    "# array in numpy is called ndarray\n"
   ]
  },
  {
   "cell_type": "code",
   "execution_count": 3,
   "id": "a7481e10-0c5c-4a29-ba2c-4686512684b5",
   "metadata": {},
   "outputs": [],
   "source": [
    "# numpy array is 50x faster than traditional python lists.\n",
    "# array is very frequently used in data science where speed and resources are very important"
   ]
  },
  {
   "cell_type": "code",
   "execution_count": 4,
   "id": "9c6f453b-5b8d-4787-8c89-fde3665dfb99",
   "metadata": {},
   "outputs": [
    {
     "name": "stdout",
     "output_type": "stream",
     "text": [
      "42\n"
     ]
    }
   ],
   "source": [
    "# 0-D arrays\n",
    "arr1 = np.array(42)\n",
    "print(arr1)"
   ]
  },
  {
   "cell_type": "code",
   "execution_count": 5,
   "id": "a17809a6-9f8d-41d5-ac47-6f9644f1c467",
   "metadata": {},
   "outputs": [
    {
     "name": "stdout",
     "output_type": "stream",
     "text": [
      "[1 2 3 4]\n"
     ]
    }
   ],
   "source": [
    "#1-d array\n",
    "arr2 = np.array([1,2,3,4])\n",
    "print(arr2)"
   ]
  },
  {
   "cell_type": "code",
   "execution_count": 7,
   "id": "9f22fa9c-aa84-4231-856a-13cab622f148",
   "metadata": {},
   "outputs": [
    {
     "name": "stdout",
     "output_type": "stream",
     "text": [
      "[[1 2 3]\n",
      " [4 5 6]]\n"
     ]
    }
   ],
   "source": [
    "#2d array\n",
    "arr3 = np.array([[1,2,3],[4,5,6]])\n",
    "print(arr3)"
   ]
  },
  {
   "cell_type": "code",
   "execution_count": 8,
   "id": "c7dfcd1c-b929-47e9-89ad-a9c9279ccfa6",
   "metadata": {},
   "outputs": [
    {
     "data": {
      "text/plain": [
       "array([[[1, 2, 3],\n",
       "        [4, 5, 6]],\n",
       "\n",
       "       [[7, 8, 9],\n",
       "        [1, 2, 3]]])"
      ]
     },
     "execution_count": 8,
     "metadata": {},
     "output_type": "execute_result"
    }
   ],
   "source": [
    "#3d arrays\n",
    "arr4 = np.array([[[1,2,3],[4,5,6]],[[7,8,9],[1,2,3]]])\n",
    "arr4"
   ]
  },
  {
   "cell_type": "code",
   "execution_count": 9,
   "id": "377dd58e-55f4-4bab-92d6-30cee7cd12d7",
   "metadata": {},
   "outputs": [
    {
     "name": "stdout",
     "output_type": "stream",
     "text": [
      "0\n",
      "1\n",
      "2\n",
      "3\n"
     ]
    }
   ],
   "source": [
    "#checking dimensions\n",
    "print(arr1.ndim)\n",
    "print(arr2.ndim)\n",
    "print(arr3.ndim)\n",
    "print(arr4.ndim)"
   ]
  },
  {
   "cell_type": "code",
   "execution_count": 11,
   "id": "bd77202a-47a4-4378-a2c6-6338616a5179",
   "metadata": {},
   "outputs": [
    {
     "name": "stdout",
     "output_type": "stream",
     "text": [
      "[[[[[1 2 3 4]]]]]\n",
      "5\n"
     ]
    }
   ],
   "source": [
    "#higher dimensions array\n",
    "arr5 = np.array([1,2,3,4],ndmin=5)\n",
    "print(arr5)\n",
    "print(arr5.ndim)"
   ]
  },
  {
   "cell_type": "markdown",
   "id": "0105a035-e6b7-4d46-b1e6-7f76dd33b7fb",
   "metadata": {},
   "source": [
    "# array indexing"
   ]
  },
  {
   "cell_type": "code",
   "execution_count": 14,
   "id": "317cae1d-f969-4e35-898d-46bcf599a909",
   "metadata": {},
   "outputs": [
    {
     "data": {
      "text/plain": [
       "1"
      ]
     },
     "execution_count": 14,
     "metadata": {},
     "output_type": "execute_result"
    }
   ],
   "source": [
    "# first element\n",
    "arr[0]"
   ]
  },
  {
   "cell_type": "code",
   "execution_count": 13,
   "id": "dfcf0075-b7d3-449f-841e-6bf5c77b1611",
   "metadata": {},
   "outputs": [
    {
     "data": {
      "text/plain": [
       "2"
      ]
     },
     "execution_count": 13,
     "metadata": {},
     "output_type": "execute_result"
    }
   ],
   "source": [
    "#second element\n",
    "arr[1]"
   ]
  },
  {
   "cell_type": "code",
   "execution_count": 15,
   "id": "596348f4-095c-4136-9a4b-8a5da1695cf4",
   "metadata": {},
   "outputs": [
    {
     "name": "stdout",
     "output_type": "stream",
     "text": [
      "7\n"
     ]
    }
   ],
   "source": [
    "#adding third and fourth element\n",
    "arr = np.array([1,2,3,4])\n",
    "print(arr[2]+arr[3])"
   ]
  },
  {
   "cell_type": "code",
   "execution_count": 16,
   "id": "89ad6810-c989-4732-aa0e-7f8d5dd47c09",
   "metadata": {},
   "outputs": [
    {
     "name": "stdout",
     "output_type": "stream",
     "text": [
      "2\n"
     ]
    }
   ],
   "source": [
    "# access 2-d arrays\n",
    "arr3 = np.array([[1,2,3],[4,5,6]])\n",
    "print(arr3[0,1])"
   ]
  },
  {
   "cell_type": "code",
   "execution_count": 19,
   "id": "45410ce7-484c-45eb-a7a8-5858f86d5641",
   "metadata": {},
   "outputs": [
    {
     "name": "stdout",
     "output_type": "stream",
     "text": [
      "6\n"
     ]
    }
   ],
   "source": [
    "print(arr3[1,2])"
   ]
  },
  {
   "cell_type": "code",
   "execution_count": 20,
   "id": "020afee4-6ae2-4e60-a46e-54d29ca0a53a",
   "metadata": {},
   "outputs": [
    {
     "name": "stdout",
     "output_type": "stream",
     "text": [
      "5\n"
     ]
    }
   ],
   "source": [
    "# access 3-d array\n",
    "arr4 = np.array([[[1,2,3],[4,5,6]],[[7,8,9],[1,2,3]]])\n",
    "print(arr4[0,1,1])"
   ]
  },
  {
   "cell_type": "code",
   "execution_count": 21,
   "id": "b9e37c47-2cb4-4399-ae43-c0370975a964",
   "metadata": {},
   "outputs": [
    {
     "data": {
      "text/plain": [
       "10"
      ]
     },
     "execution_count": 21,
     "metadata": {},
     "output_type": "execute_result"
    }
   ],
   "source": [
    "# negative indexing\n",
    "arr = np.array([[1,2,3,4,5],[6,7,8,9,10]])\n",
    "arr[1,-1]"
   ]
  },
  {
   "cell_type": "markdown",
   "id": "56a78afc-1aee-4881-a117-0fba55c0fc64",
   "metadata": {},
   "source": [
    "# numpy array slicing\n"
   ]
  },
  {
   "cell_type": "code",
   "execution_count": 22,
   "id": "4759fe2d-4031-4a84-bf5f-aca99de47402",
   "metadata": {},
   "outputs": [],
   "source": [
    "#[start:end:step]"
   ]
  },
  {
   "cell_type": "code",
   "execution_count": 25,
   "id": "30506bf6-931d-43bf-80a2-3886a343e3e9",
   "metadata": {},
   "outputs": [
    {
     "name": "stdout",
     "output_type": "stream",
     "text": [
      "[2 3 4 5]\n",
      "[5 6 7 8 9]\n",
      "[1 2 3 4]\n",
      "[7 8]\n",
      "[2 4]\n",
      "[1 3 5 7 9]\n"
     ]
    }
   ],
   "source": [
    "arr = np.array([1,2,3,4,5,6,7,8,9])\n",
    "print(arr[1:5])\n",
    "print(arr[4:])\n",
    "print(arr[:4])\n",
    "print(arr[-3:-1])\n",
    "print(arr[1:5:2])\n",
    "print(arr[::2])"
   ]
  },
  {
   "cell_type": "code",
   "execution_count": 26,
   "id": "7dcd539f-65c2-41e7-b599-ab125d5018d9",
   "metadata": {},
   "outputs": [],
   "source": [
    "# slicing 2d array"
   ]
  },
  {
   "cell_type": "code",
   "execution_count": 32,
   "id": "2683d113-4ff0-4f25-a855-0a5300ae6480",
   "metadata": {},
   "outputs": [
    {
     "name": "stdout",
     "output_type": "stream",
     "text": [
      "[ 8  9 10]\n",
      "[3 9]\n",
      "[[ 2  3  4]\n",
      " [ 8  9 10]]\n"
     ]
    }
   ],
   "source": [
    "arr1 = np.array([[1,2,3,4,5,6],[7,8,9,10,11,12]])\n",
    "print(arr1[1,1:4])\n",
    "print(arr1[0:2, 2])\n",
    "print(arr1[0:2, 1:4])"
   ]
  },
  {
   "cell_type": "markdown",
   "id": "5f43ef67-208d-476b-a2ff-466e23c17728",
   "metadata": {},
   "source": [
    "# Numpy DataTypes"
   ]
  },
  {
   "cell_type": "raw",
   "id": "de1b36e4-b4c8-4298-ab4d-d0b695f10b4e",
   "metadata": {},
   "source": [
    "numpy has some extra data types and refer to data types with one character like:\n",
    "i - integer\n",
    "b - boolean\n",
    "u - unsigned integer\n",
    "f - float\n",
    "c - complex float\n"
   ]
  },
  {
   "cell_type": "code",
   "execution_count": 33,
   "id": "3cc58b8a-6634-4df3-9047-f0a0f5d57c0e",
   "metadata": {},
   "outputs": [
    {
     "data": {
      "text/plain": [
       "dtype('int32')"
      ]
     },
     "execution_count": 33,
     "metadata": {},
     "output_type": "execute_result"
    }
   ],
   "source": [
    "#checking the datatype of array object\n",
    "arr = np.array([1,2,3])\n",
    "arr.dtype"
   ]
  },
  {
   "cell_type": "code",
   "execution_count": 34,
   "id": "741e7f41-d295-4103-94a2-450131047dbc",
   "metadata": {},
   "outputs": [
    {
     "data": {
      "text/plain": [
       "dtype('<U6')"
      ]
     },
     "execution_count": 34,
     "metadata": {},
     "output_type": "execute_result"
    }
   ],
   "source": [
    "arr1 = np.array(['apple','banana'])\n",
    "arr1.dtype"
   ]
  },
  {
   "cell_type": "code",
   "execution_count": 35,
   "id": "7287c906-fe49-4536-9a07-94a7c9059fe4",
   "metadata": {},
   "outputs": [
    {
     "data": {
      "text/plain": [
       "dtype('S1')"
      ]
     },
     "execution_count": 35,
     "metadata": {},
     "output_type": "execute_result"
    }
   ],
   "source": [
    "# creating array with defined datatypes\n",
    "arr = np.array([1,2,3,4],dtype='S')\n",
    "arr.dtype"
   ]
  },
  {
   "cell_type": "code",
   "execution_count": 36,
   "id": "7232021a-4fd2-49e2-8776-56d8d9cf8935",
   "metadata": {},
   "outputs": [
    {
     "data": {
      "text/plain": [
       "dtype('int32')"
      ]
     },
     "execution_count": 36,
     "metadata": {},
     "output_type": "execute_result"
    }
   ],
   "source": [
    "arr1 = np.array([1,2,3,4,5],dtype='i4')\n",
    "arr1.dtype"
   ]
  },
  {
   "cell_type": "code",
   "execution_count": 41,
   "id": "0b25b402-1fa3-4fa4-ad62-1372079f2cf3",
   "metadata": {},
   "outputs": [
    {
     "data": {
      "text/plain": [
       "array([1, 1, 0], dtype=int32)"
      ]
     },
     "execution_count": 41,
     "metadata": {},
     "output_type": "execute_result"
    }
   ],
   "source": [
    "arr = np.array([1.1,1.2,0.3])\n",
    "newarr = arr.astype('i')\n",
    "newarr.dtype\n",
    "newarr"
   ]
  },
  {
   "cell_type": "code",
   "execution_count": 42,
   "id": "09971970-44e2-4742-b0b5-1e4abcf27923",
   "metadata": {},
   "outputs": [
    {
     "data": {
      "text/plain": [
       "array([ True,  True,  True])"
      ]
     },
     "execution_count": 42,
     "metadata": {},
     "output_type": "execute_result"
    }
   ],
   "source": [
    "newarr1 = arr.astype(bool)\n",
    "newarr1"
   ]
  },
  {
   "cell_type": "code",
   "execution_count": 43,
   "id": "b6ae3ff6-659f-4fa1-8418-8d6955116a5b",
   "metadata": {},
   "outputs": [
    {
     "data": {
      "text/plain": [
       "array([ True, False,  True])"
      ]
     },
     "execution_count": 43,
     "metadata": {},
     "output_type": "execute_result"
    }
   ],
   "source": [
    "arr = np.array([1, 0, 3])\n",
    "\n",
    "newarr = arr.astype(bool)\n",
    "newarr"
   ]
  },
  {
   "cell_type": "code",
   "execution_count": null,
   "id": "9118f774-36c9-493a-b856-ca5416331d85",
   "metadata": {},
   "outputs": [],
   "source": []
  }
 ],
 "metadata": {
  "kernelspec": {
   "display_name": "Python 3 (ipykernel)",
   "language": "python",
   "name": "python3"
  },
  "language_info": {
   "codemirror_mode": {
    "name": "ipython",
    "version": 3
   },
   "file_extension": ".py",
   "mimetype": "text/x-python",
   "name": "python",
   "nbconvert_exporter": "python",
   "pygments_lexer": "ipython3",
   "version": "3.12.6"
  }
 },
 "nbformat": 4,
 "nbformat_minor": 5
}
