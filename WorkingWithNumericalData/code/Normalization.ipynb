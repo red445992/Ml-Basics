{
 "cells": [
  {
   "cell_type": "markdown",
   "id": "3d0cb315-0d87-462a-a55d-c42b17d847eb",
   "metadata": {},
   "source": [
    "# Linear scaling"
   ]
  },
  {
   "cell_type": "code",
   "execution_count": 4,
   "id": "134a9a79-ec0a-48d3-8e0d-17e0adff36fe",
   "metadata": {},
   "outputs": [],
   "source": [
    "import pandas as pd\n",
    "from sklearn.preprocessing import MinMaxScaler"
   ]
  },
  {
   "cell_type": "code",
   "execution_count": 8,
   "id": "4037a165-c759-4edc-87f3-22e4e4c33d83",
   "metadata": {},
   "outputs": [],
   "source": [
    "\n",
    "data = pd.DataFrame({'age':[10,20,30,15]})\n",
    "scalar = MinMaxScaler()\n",
    "data['age_scaled'] = scalar.fit_transform(data[['age']])\n"
   ]
  },
  {
   "cell_type": "code",
   "execution_count": null,
   "id": "d7d1b26a-0c4b-4341-8b69-fb1c8f05de28",
   "metadata": {},
   "outputs": [],
   "source": []
  }
 ],
 "metadata": {
  "kernelspec": {
   "display_name": "Python 3 (ipykernel)",
   "language": "python",
   "name": "python3"
  },
  "language_info": {
   "codemirror_mode": {
    "name": "ipython",
    "version": 3
   },
   "file_extension": ".py",
   "mimetype": "text/x-python",
   "name": "python",
   "nbconvert_exporter": "python",
   "pygments_lexer": "ipython3",
   "version": "3.12.6"
  }
 },
 "nbformat": 4,
 "nbformat_minor": 5
}
