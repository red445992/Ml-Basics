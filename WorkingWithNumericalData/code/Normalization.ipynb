{
 "cells": [
  {
   "cell_type": "markdown",
   "id": "3d0cb315-0d87-462a-a55d-c42b17d847eb",
   "metadata": {},
   "source": [
    "# Linear scaling"
   ]
  },
  {
   "cell_type": "code",
   "execution_count": 4,
   "id": "134a9a79-ec0a-48d3-8e0d-17e0adff36fe",
   "metadata": {},
   "outputs": [],
   "source": [
    "import pandas as pd\n",
    "from sklearn.preprocessing import MinMaxScaler"
   ]
  },
  {
   "cell_type": "code",
   "execution_count": 9,
   "id": "4037a165-c759-4edc-87f3-22e4e4c33d83",
   "metadata": {},
   "outputs": [
    {
     "data": {
      "text/plain": [
       "0    0.00\n",
       "1    0.50\n",
       "2    1.00\n",
       "3    0.25\n",
       "Name: age_scaled, dtype: float64"
      ]
     },
     "execution_count": 9,
     "metadata": {},
     "output_type": "execute_result"
    }
   ],
   "source": [
    "\n",
    "data = pd.DataFrame({'age':[10,20,30,15]})\n",
    "scalar = MinMaxScaler()\n",
    "data['age_scaled'] = scalar.fit_transform(data[['age']])\n",
    "data['age_scaled']"
   ]
  },
  {
   "cell_type": "markdown",
   "id": "ab8a37d7-f406-406a-ac02-cdc6acbcc243",
   "metadata": {},
   "source": [
    "# Z score\n"
   ]
  },
  {
   "cell_type": "code",
   "execution_count": 10,
   "id": "bca11d3d-aef4-4551-a93f-234d47d6dbba",
   "metadata": {},
   "outputs": [],
   "source": [
    "from sklearn.preprocessing import StandardScaler\n"
   ]
  },
  {
   "cell_type": "code",
   "execution_count": 13,
   "id": "aba51304-edd6-4ed4-a5cb-14189b9eefc8",
   "metadata": {},
   "outputs": [
    {
     "data": {
      "text/plain": [
       "0   -1.414214\n",
       "1   -0.707107\n",
       "2    0.000000\n",
       "3    0.707107\n",
       "4    1.414214\n",
       "Name: height_scaled, dtype: float64"
      ]
     },
     "execution_count": 13,
     "metadata": {},
     "output_type": "execute_result"
    }
   ],
   "source": [
    "df = pd.DataFrame({'height':[140,150,160,170,180]})\n",
    "ZScore = StandardScaler()\n",
    "df['height_scaled']=ZScore.fit_transform(df[['height']])\n",
    "df['height_scaled']"
   ]
  },
  {
   "cell_type": "code",
   "execution_count": null,
   "id": "e9273c30-8fe6-47a5-b4e2-7fdd98413f65",
   "metadata": {},
   "outputs": [],
   "source": []
  }
 ],
 "metadata": {
  "kernelspec": {
   "display_name": "Python 3 (ipykernel)",
   "language": "python",
   "name": "python3"
  },
  "language_info": {
   "codemirror_mode": {
    "name": "ipython",
    "version": 3
   },
   "file_extension": ".py",
   "mimetype": "text/x-python",
   "name": "python",
   "nbconvert_exporter": "python",
   "pygments_lexer": "ipython3",
   "version": "3.12.6"
  }
 },
 "nbformat": 4,
 "nbformat_minor": 5
}
