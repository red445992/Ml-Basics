{
 "cells": [
  {
   "cell_type": "markdown",
   "id": "768d60e0-c61b-4873-9955-bab4e59eebe2",
   "metadata": {},
   "source": [
    "# Binning"
   ]
  },
  {
   "cell_type": "code",
   "execution_count": 1,
   "id": "0f229869-13e8-46d1-8aa4-1e9c5609626d",
   "metadata": {},
   "outputs": [],
   "source": [
    "import pandas as pd"
   ]
  },
  {
   "cell_type": "code",
   "execution_count": 2,
   "id": "fd29fd8b-2c3a-44cb-a01c-8896545af2f5",
   "metadata": {},
   "outputs": [],
   "source": [
    "ages = [12, 17, 24, 36, 42, 55, 67]\n",
    "bins = [0, 18, 35, 60, 100]\n",
    "labels = ['Teen', 'Young Adult', 'Adult', 'Senior']"
   ]
  },
  {
   "cell_type": "code",
   "execution_count": 3,
   "id": "f719434c-4395-4c91-b296-75b382101192",
   "metadata": {},
   "outputs": [],
   "source": [
    "df = pd.DataFrame({'ages':ages})\n",
    "df[\"Age_Group\"] = pd.cut(df['ages'],bins=bins,labels=labels)"
   ]
  },
  {
   "cell_type": "code",
   "execution_count": 4,
   "id": "5ab608a8-5b93-4c34-8006-11d2e460ccfb",
   "metadata": {},
   "outputs": [
    {
     "data": {
      "text/html": [
       "<div>\n",
       "<style scoped>\n",
       "    .dataframe tbody tr th:only-of-type {\n",
       "        vertical-align: middle;\n",
       "    }\n",
       "\n",
       "    .dataframe tbody tr th {\n",
       "        vertical-align: top;\n",
       "    }\n",
       "\n",
       "    .dataframe thead th {\n",
       "        text-align: right;\n",
       "    }\n",
       "</style>\n",
       "<table border=\"1\" class=\"dataframe\">\n",
       "  <thead>\n",
       "    <tr style=\"text-align: right;\">\n",
       "      <th></th>\n",
       "      <th>ages</th>\n",
       "      <th>Age_Group</th>\n",
       "    </tr>\n",
       "  </thead>\n",
       "  <tbody>\n",
       "    <tr>\n",
       "      <th>0</th>\n",
       "      <td>12</td>\n",
       "      <td>Teen</td>\n",
       "    </tr>\n",
       "    <tr>\n",
       "      <th>1</th>\n",
       "      <td>17</td>\n",
       "      <td>Teen</td>\n",
       "    </tr>\n",
       "    <tr>\n",
       "      <th>2</th>\n",
       "      <td>24</td>\n",
       "      <td>Young Adult</td>\n",
       "    </tr>\n",
       "    <tr>\n",
       "      <th>3</th>\n",
       "      <td>36</td>\n",
       "      <td>Adult</td>\n",
       "    </tr>\n",
       "    <tr>\n",
       "      <th>4</th>\n",
       "      <td>42</td>\n",
       "      <td>Adult</td>\n",
       "    </tr>\n",
       "    <tr>\n",
       "      <th>5</th>\n",
       "      <td>55</td>\n",
       "      <td>Adult</td>\n",
       "    </tr>\n",
       "    <tr>\n",
       "      <th>6</th>\n",
       "      <td>67</td>\n",
       "      <td>Senior</td>\n",
       "    </tr>\n",
       "  </tbody>\n",
       "</table>\n",
       "</div>"
      ],
      "text/plain": [
       "   ages    Age_Group\n",
       "0    12         Teen\n",
       "1    17         Teen\n",
       "2    24  Young Adult\n",
       "3    36        Adult\n",
       "4    42        Adult\n",
       "5    55        Adult\n",
       "6    67       Senior"
      ]
     },
     "execution_count": 4,
     "metadata": {},
     "output_type": "execute_result"
    }
   ],
   "source": [
    "df"
   ]
  },
  {
   "cell_type": "markdown",
   "id": "0a7b1b7a-fab1-4cd5-97e7-1b41868f21ac",
   "metadata": {},
   "source": [
    "# Scrubbing"
   ]
  },
  {
   "cell_type": "code",
   "execution_count": null,
   "id": "8f7b2ea4-53db-4ece-a567-2640947af2a3",
   "metadata": {},
   "outputs": [],
   "source": []
  }
 ],
 "metadata": {
  "kernelspec": {
   "display_name": "Python 3 (ipykernel)",
   "language": "python",
   "name": "python3"
  },
  "language_info": {
   "codemirror_mode": {
    "name": "ipython",
    "version": 3
   },
   "file_extension": ".py",
   "mimetype": "text/x-python",
   "name": "python",
   "nbconvert_exporter": "python",
   "pygments_lexer": "ipython3",
   "version": "3.12.6"
  }
 },
 "nbformat": 4,
 "nbformat_minor": 5
}
